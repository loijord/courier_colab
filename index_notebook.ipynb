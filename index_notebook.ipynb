{
 "cells": [
  {
   "cell_type": "markdown",
   "metadata": {},
   "source": [
    "## Naktinio Saimono blogas\n",
    "**Jūs pakliuvote į gan nuotykingą blogą, kuriame bandoma parodyti, kad kurjerio tašė ant pečių - ne vien vergystė.**  \n",
    "\n",
    "<b><font color='blue'> Atsibodo vergauti Woltui / Boltui? Prisijunkite prie naujos platformos kūrimo! </font></b> [Štai projekto vizija](./journey_remarks/nauja_platforma.ipynb)\n",
    "\n",
    "<b><font color='green'> Įvariomis nuorodomis dalinuosi. </font></b>  **Te:**\n",
    "\n",
    "* Demūškė uždarbio pavaizdavimo dirbant per Bolt app'są: [2023-02-18](./stats/payments/2023-02-18/preview.html)\n",
    "\n",
    "* Inspiracijos:\n",
    "  * Besisvaiginančio kurjerio užrašai. Kiek rezistencinis reportažas apie tai, kaip buvo uždirbti 109 eurai per vieną parą su tik iki 60 km vienu įkrovimu galinčiu nuvažiuoti vienaračiu: [Štai jums nuoroda](./journey_remarks/2023_04_14.html)\n",
    "  * Kolegos, irgi dirbančio Bolt, blogas: [https://bolt-eimz.onrender.com/](https://bolt-eimz.onrender.com/)\n",
    "  * [A short documentary about the legendary best PIZZA delivery man Biller Meier](https://www.youtube.com/watch?v=0NG6Dk47Zro)"
   ]
  },
  {
   "cell_type": "markdown",
   "metadata": {},
   "source": [
    "## Pagrindinis Naktinio Saimono projektas, skirtas gaudyti Bolt zkz ir ne tik\n",
    "Čia yra Naktinio Saimono pakurti mappsai, kur rodomas Bolt restoranų darbo laikas ir užimtumas. Restoranų užimtumo žemėlapiai yra kasvalandiniai. Juos yra prasmė naudoti visada, kai tik užsakymai krenta retai. Tuomet pasijungus žemėlapius apsimoka judėti link tų vietų, kur yra didesni veikiančių restoranų telkiniai. \n",
    "\n",
    "* [Monday](./RestaurantActivityMaps/bolt_animation_test_Mon.html)\n",
    "* [Tueday](./RestaurantActivityMaps/bolt_animation_test_Tue.html)\n",
    "* [Wednesday](./RestaurantActivityMaps/bolt_animation_test_Wed.html)\n",
    "* [Thursday](./RestaurantActivityMaps/bolt_animation_test_Thu.html)\n",
    "* [Friday](./RestaurantActivityMaps/bolt_animation_test_Fri.html)\n",
    "* [Saturday](./RestaurantActivityMaps/bolt_animation_test_Sat.html)\n",
    "* [Sunday](./RestaurantActivityMaps/bolt_animation_test_Sun.html)  "
   ]
  },
  {
   "cell_type": "markdown",
   "metadata": {},
   "source": [
    "### Info\n",
    "* 450/818 vietų adresai paimti iš Bolt Food (žali rutuliai). \n",
    "* Likusių vietų adresai paimti iš Google Places API ir gali būti neteisingi (mėlyni rutuliai). \n",
    "* Užimtumo duomenys paimti iš Google Places API (violetiniai grafikai)\n",
    "* Ne visi restoranai turi užimtumo duomenis. Ten, kur neturi, imamas visų vietų vidurkis (pilki grafikai)\n",
    "* Rutulių dydis parinktas pagal Google skelbiamą įvertinimų skaičių (VOTES)"
   ]
  },
  {
   "cell_type": "markdown",
   "metadata": {},
   "source": [
    "### Tolimesnis projekto vystymas\n",
    "* Google skelbiamas kiekvienos vietos įvertinimų skaičius ir užimtumas ne visada atspindi tikrą situaciją, kiek dažnai iš ten įkrenta Bolt užsakymai realiu laiku.\n",
    "* Šiuo metu yra renkama užsakymų informacija:\n",
    "  * kiekvieno nuvežto užsakymo maršrutas\n",
    "  * maršrutas, kuriuo važinėta laukiant naujo užsakymo\n",
    "  * kiek laiko užtruko laukti naujo užsakymo\n",
    "  * kiek laiko užtruko atskiros užsakymo vykdymo dalys (keliavimas iki restorano, užtrukimas restorane, keliavimas iki kliento, užtrukimas atiduodant užsakymą)\n",
    "* Planuojama tyrimo imtis - 1000 pristatytų užsakymų\n",
    "* Gauti duomenys realiu laiku leis geriau įvertinti:\n",
    "  * kiekvienos vietos Bolt užsakymų pasiūlą\n",
    "  * per kiek laiko tikėtina sulaukti naujo užsakymo būnant tam tikroje vietoje.\n",
    "  * kokių užsakymų neverta pristatinėti atsižvelgiant į vidutinius nuostolius, patiriamus dėl naujo užsakymo laukimo."
   ]
  },
  {
   "cell_type": "markdown",
   "metadata": {},
   "source": [
    "|`user_ratings_total`|`current_opening_hours & populartimes`|Demand|\n",
    "|:---:|:---:|:---:|\n",
    "|![](user_ratings_total.png)|![](populartimes.png)|![](demand.png)|"
   ]
  },
  {
   "cell_type": "markdown",
   "metadata": {},
   "source": [
    "### Kaip surinkti duomenys\n",
    "* Visų egzistuojančių vietų vardai nukopijuoti iš [Bool Food Website](https://food.bolt.eu/lt-LT/9-vilnius).\n",
    "* Kiekvienai vietai surinkta iš Google duomenų prieinama informacija (adresas, koordinatės, darbo laikas, užimtumo grafikas skirtingomis savaitės dienomis ir Google vartotojų balsų skaičius).\n",
    "* Apie 5% vietų Google identifikuotos neteisingai.\n",
    "* Apie 60% vietų informacija jau ištaisyta rankiniu būdu remiantis Bolt Food programėle.\n",
    "* Naudota ribota [Google Places API](https://medium.com/swlh/google-maps-places-api-28b8fdf28082) prieiga, gauta per [Google Cloud](https://console.cloud.google.com/) platformą.\n",
    "\n",
    "### Atviri duomenys\n",
    "* Restoranų sąrašas iš [Bolt Food Website](https://food.bolt.eu/lt-LT/9-vilnius): [`bolt_restaurants.txt`](bolt_restaurants.txt)\n",
    "* Google teikiami duomenys per [Google Places API](https://medium.com/swlh/google-maps-places-api-28b8fdf28082) prieigą: [`bolt_restaurants_vilnius.txt`](bolt_restaurants_vilnius.txt)\n",
    "* Užimtumo duomenys (source: `https://github.com/m-wrzr/populartimes`): [`popular_times.npz`](popular_times.npz)\n",
    "----------------------------------------"
   ]
  },
  {
   "cell_type": "markdown",
   "metadata": {},
   "source": [
    "### TODO\n",
    "* Patikslinti adresus ir darbo valandas pagal [Bolt Food](https://food.bolt.eu/lt-LT/9-vilnius) programėlės parodymus.\n",
    "* Atverti užsakymų pristatymo duomenis:\n",
    "    * Užsakymo laukimas\n",
    "    * Atvykimas į restoraną\n",
    "    * Laukimas restorane / restorano ieškojimas\n",
    "    * Vykimas pas klientą\n",
    "    * Kliento ieškojimas / atvykimas prie durų\n",
    "    * Kassekundinės GPS koordinatės\n",
    "* Apjungiant užsakymų pristatymo duomenis su restoranų informacija, išanalizuoti, kur yra pagrindiniai uždarbio ir laiko praradimai.\n",
    "* Sukurti daug vizualesnius [Heat Maps](https://levelup.gitconnected.com/how-to-make-interactive-maps-with-folium-f0b66f157737), braižomus pagal spėjamus restoranų **traukos rodiklius**.\n",
    "* Įvertinti, kaip užsakymų pasiūla kinta laike.\n",
    "* 700 aktyvios Bolt vietų. Žemėlapis [pasiekiamas čia](./bolt_restaurants_vilnius.html)"
   ]
  }
 ],
 "metadata": {
  "kernelspec": {
   "display_name": "Python 3 (ipykernel)",
   "language": "python",
   "name": "python3"
  },
  "language_info": {
   "codemirror_mode": {
    "name": "ipython",
    "version": 3
   },
   "file_extension": ".py",
   "mimetype": "text/x-python",
   "name": "python",
   "nbconvert_exporter": "python",
   "pygments_lexer": "ipython3",
   "version": "3.9.13"
  }
 },
 "nbformat": 4,
 "nbformat_minor": 1
}
