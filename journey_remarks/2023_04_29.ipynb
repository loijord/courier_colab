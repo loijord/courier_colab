{
 "cells": [
  {
   "cell_type": "markdown",
   "metadata": {},
   "source": [
    "## How does it feel like to make 16 hours challenge in Bolt?\n",
    "### Intro\n",
    "Plano nepasakosiu, nes nėra laiko, tik fragmentus. \n",
    "* Vienaračio duomenys: 4484 nuvažiuoti km, iki 60km atstumas vienu įkrovimu, greitis iki 35km/h, išsikrauna per 6 val, važinėjant viešuoju transportu galima pailginti trukmę iki 7-8 val. Svoris 17kg, kaina 995, remonto išlaidos iki dabar - apie 100 eur, pagrinde dėl to, kad nepritaikytas žiemai važinėti, neturi drėgmės apsaugos.\n",
    "* Paspirtuko duomenys: 1823 nuvažiuoti km, iki 42km atstumas vienu įkrovimu, greitis 40km/h+, išsikrauna per 4 val. Svoris 26kg, kaina 784, remonto išlaidos iki dabar - virš 200 eur. Pastoviai atsibarškina ir skyla detalės važiuojant, daug daugiau incidentų ir neina pažiūrėti adresų nenulipant. Žodžiu, nepatinka jis man.\n",
    "* Standartiniai techniniai dalykai. Sužiūrim orus per meteo.lt ir meteologix.com\n",
    "* Viešojo transporto bilietas galioja mėnesiui už 29 eurus.\n",
    "\n",
    "\n",
    "### Veiksmas\n",
    "* 02:00 - Gaunu palaikymą tam, ką žadu daryti + galimybę dieną pasikrauti apie 18 val. vienaratį ir nakvynę nakčiai centre.\n",
    "* 07:45 - Keliamės. Iš karto prie esmės. Du puodeliai kavos. Tuomet ruošiam vištieną dėt į duchovkę. Tvarkomės kambarį, kad neatrodytų kaip bomžinykas. Tada dar du puodeliai kavos\n",
    "* 09:00 - Višta gatava. Per pusvalandį suvalgau tas penkias kulšis. Tada užmezgu ryšį su kurjerių bendruomene. Ačiū jums už palaikymą, kolegos, iškart kitas noras dirbti. \n",
    "* 09:30 - Daug gaišaties ant smulkmenų. Tabakas, du maitblokiai, kompas su pakrovėju, telefonas su pakrovėju, nakvynės reikmenys ir kitos šmutkės\n",
    "* 09:55 - Pro duris į darbą. Ant pečių Bolt tašė. Ant vienos kojos vienaratis (leidžia dirbti 6 val. iki išsikrovimo), ant kitos - paspirtukas (4 val.)\n",
    "* 10:07 - Įlipam į autiką. Nusirašom spidometrų duomenis. Oras bus pasakiškas: nelis, o ant nakties iš rikiuotės bent jau šaltis neišmuš. Maršrutas - iš Santariškių centran.\n",
    "* 10:13 - Perlipam į kitą. \n",
    "* 10:30 - Išlipam. Vėliau surasiu slaptą vietą laikyt paspirtukui prie Žaliojo tilto, kad niekas nepavogtų. Palieku jį tenais. Imu į trasą vienaratį.\n",
    "* 10:34 - Atsilaisvinau. Jungiu Bolt Courier App. \n",
    "* 10:38 - Žmonės šiandie normalūs. Pakalbu su vienu kurjeriu, kur dirba ant Bolt ir nuomojasi Vox būdeles, kad dirbti. Sako vakar padarė 130 per 11 val. Tuo tarpu įkrenta pirmas normalus zkz, bet iš tų apylinkių vis tiek paskui, kaip paaiškės, teks gaišti ir važiuoti apie 10 min iki stoties troleibusu, kad sulaukti užsakymų. Tas numuša darbo tempą nuo 10 eur į val iki tik 7 eur į val. Dar prie Jammi kebabinės juodaodis sėkmės palinki. Visiems sakau: darau 16h challenge ir jis prasideda dabar. Jei pasiseks - viskas bus įkelta į intiką.\n",
    "* 11:30 - Darbo tempas flegmiškas 15 val laukiau darbo ir dar apie 10 min mano laiko restikas sugaišino. Žiūriu išeikvota tik 1/8 batarkės. Matematiniais paskaičiavimais, dėl batarkės taupymo neapsimoka laukti už 1 minutės atvažiuojančių autikų ir klientams maistą pristatyti 2 min lėčiau. Tai padėtų pasikelti uždarbį nuo 8 eur/val iki 9eur/val.\n",
    "* 12:15 - Vyksta stebuklai. Likimo ratas išsuka pora Naujamiesčio picerijų ir du maišus iš Bolt Market, sveriančius 15kg kartu. Vos per 40 min Balansas pasipildo 10 eur, o spidometras rodo tik +7km. Ne darbas, o pasaka\n",
    "* 12:19 - Ir tada kažkas pasiunčia prakeiksmą mano pusėn. Nuvarau į Naujamiesčio Meatbusters. Biški susinervinu, nes nepastebėjau, kur teks varyti. Spėju vėlavimas bus 20 min., nes tie visada šitas nesąmones daro. Pasiruošiu maitblokį vienaračiui kraut, įkišu į rozetę. Neatspėju. Už minutės užsakymas paruoštas. Vėl susinervinu, ištraukiu laidą net nedėjęs į tašę ir pyzdinu iš ten. Žiūriu, kad nepasimestų dalys bevažiuodamas. Sugebėjo to triperio antgalis (su rozetės galu vienąsyk jau patrumpintu) vis tiek kažkokiu būdu pasimest tiesiog gatvėj, bet tokiu unikaliu būdu, kad net grįžtant jo rasti nepavyko. \n",
    "* 12:25 - Atvarant pas klientą pakeliui - vienos nesąmonės. Pakeliui pravažiavimai padaryti taip, kad bordiūrai visokie kliudytų. Ne vienoj vietoj prižarstyta stiklų. Vienas vairuotojas kieme užstatė kelią su mašina ir pradėjo pist protą, kur lendu. Kitas su BMW specialiai išvažiuojant piktybiškai blokavo praėjimą, tada kai pradėjau važiuoti vėl tą pat padarė. Nuoširdžiai norėjau pasižiūrėti į kliento, kuris užsisakinėjo šitą užsakymą, snukį. Atidarė duris jaunoka maloniai bendraujanti mergina nekaltu veidu. Netikiu, kad buvo jos kaltė. Matyt kažkieno kito.\n",
    "* 12:30 - Sprendimas buvo negaišt laiko ir įteikt užsakymą tai klientei, o to triperio antgalio pakeliui ieškoti tik grįžtant. Nors buvo akivaizdu, kuriam kelio ruože jis dingo, tas triperio galas taip ir nesiteikė atsirasti net pakartotinai Meatbusters apžiūrėjus. Praradau j7į. Bet tašėj turėjau paspirtuko pakrovėją dar, tiko antgalis. Apsieisiu, tiek to. Nedaug trūko, kad mano čelindžas būtų sufeilinęs konkrečiai. Kaip bebūtų, 13 eurų per val yra stebuklas, kuris retai kada man pakliūva.  \n",
    "* 13:00 - Nežinau, ar čia džiaugtis, ar liūdėti. Atvarius į Midaugo Maximos CanCaną užsakymo laukiu jau virš 20 min. Finansinius nuostolius, sukeltus dėl to restorano kaltės, vertinčiau 3 eurais. Bent jau 1.5 atgausiu iš Bolt už vėlavimą dėl restiko kaltės. Bet užtat gavau laiko pabaigti aprašyti viską, kas įvyko.\n",
    "* 13:15 - Yra vienas paprastas būdas įvertint, kiek toks darbas energijos ryja. Nors dar prieš 4 val. buvau beveik persivalgęs, alkis užėjo belenkoks. \n",
    "* 14:00 - Darbas nebūtų toks fainas, jei nebūtų pasitaikius galimybė pabendrauti su Kurjerių Universiteto Čiatu. Dalijamės uždarbiais. Man sako, kad turėčiau laisvais surinkti 70 eur per valandas. Aš sakau ne, tik apie 9 eur į val susidaro, nes dirbu tik ant Bolt app. Nu ok, gal ne taip ir blogai, palyginus su univero čempionu *kk vb*, magistrą turintį iš kažkokių lb suktų dirbtinio intelekto dalykėlių. Man jis sako, malu š: *importuok gerų vienaračių iš Alibaba, vieną naudok, du prastumk ir būsi pliuse ir kraut nereiks*. Gerbiu tokią kritiką.\n",
    "* 14:15 - Tiksliau 35 eurai per 3 val 40 min pragaišto laiko su 32/60 nuvažiuotų km.\n",
    "* 15:00 - Viskas vyksta ramiai. Restoranai iš po ryto atsibudę, jau nevėluoja. Tik pradedu svarstyt, kad nespėsiu į savo mėgiamą bariuką Kalvarijų 22 pavalgyt papigiai. Kai nėra išeities, galvoj ima sukinėtis kebabas iš Jammi, vis dažnyn ir dažnyn.\n",
    "* 15:40 - meta Bolt Marketas šalia stoties vežt. Dėkui nežinau kam, bet dašuto, kad autobusų stoties antram aukšte pavalgyt ir pakraut vienaratį eina. Įprastai būna pigiau, bet šįsyk kažkaip gana brangiai 9.4 už šaltibarščius ir normalią guliašo porciją paskaičiavo.\n",
    "* 16:30 - skaičiuoju, kad kol kas yra 50eur/46km/5h. Geriau, nei įprasta. Tuo tarpų Kurjerių Universiteto Čiato čempionas *kk vb* giriasi savo skoru 67eur/5.5h. Jokių ten stebuklų su juo nėra. Tiesiog ginkluotas geru dviračiu su motoru.\n",
    "* 16:34 - pijokus varo už durų, nes užsidaro. Dar po minutės pasirodo pranešė, kad užsidarymas ir man ponaičiui galioja. Nu ką, kraunuos šmutkes ir varau nafig. 40 min gavau vienaratį pasikraut, iki 18 val tikrai užteks, o gal net ir iki 18:30.\n",
    "* 16:42 - jungiu app ir kimarinu prie Makdako su vaikučiais. Nekvaili vaikučiai. Diskutuoja apie šiais metais išleistą serijinį žudiką ChatGPT. Ne šiaip diskutuoja - akurat jau ir pritaikyt kažkuriam vaikui jį pavyko ir 10 susirinkt už nd. Nemeta zkz 15 min. Nesiparinu, bet pradeda užknist. Reiks jungtis savo pakurtus mappsus, kad išsiaiškint, kur yra zkz ir autint iš čia.\n",
    "* 17:07 - stoties kvartale dar vis nėra zkz. Užteks stumdyti dūrą, pagaunu 1G autiką ir varau iki savo slaptavietės prie Žaliojo tilto parsivaryt savo beveik pilnai pakrauto paspirtuko ligi kitos laikinos vietos šalia Katedros. Tada dar kokią valandą su vienaračiu pavažinėsiu sau ramiai aplinkui.\n",
    "* 17:55 - koks fainas suolelis savajam kvartale <3 Sėdžiu, ilsiuosi, neskubu, nors planavau jungti app ir vėl lėkti. Ir išvis, oras - pasaka. Paskui su mergina susitinku.\n",
    "* 19:10 - susitikimai užsitęsia, nes sunku išsiskirti. Bet jau jungiu app.\n",
    "* iki 22:05 - veiksmas darosi žiauriai neįdomus, nes visa energija išeikvota ir toliau jos nėra. Dirbu kaip robotas, mechaniškai, be emocijų ir vienintelis džiaugsmas - sulaukti, kada tai baigsis. Užsakymai bazavosi pagrinde vienoje vietoje: iš pradžių Gedo prospektas, paskui Cupas ir Europa šiek tiek, o galiausiai Ozo apylinkės. Nelabai aiškiai užsifiksavo paspirtuko spidometro rodmenys, bet berods buvo  29.5€ surinkta ir nuvažiuota apie 33km (kilometrų persvara, nes visiškai netaupiau baterijos ir viešuoju transportu nesinaudojau)"
   ]
  },
  {
   "cell_type": "code",
   "execution_count": 2,
   "metadata": {},
   "outputs": [
    {
     "ename": "SyntaxError",
     "evalue": "illegal target for annotation (2127797433.py, line 1)",
     "output_type": "error",
     "traceback": [
      "\u001B[1;36m  Cell \u001B[1;32mIn[2], line 1\u001B[1;36m\u001B[0m\n\u001B[1;33m    19:10 - nu jo, buvo, kas veikti\u001B[0m\n\u001B[1;37m    ^\u001B[0m\n\u001B[1;31mSyntaxError\u001B[0m\u001B[1;31m:\u001B[0m illegal target for annotation\n"
     ]
    }
   ],
   "source": [
    "19:10 - nu jo, buvo, kas veikti\n",
    "21:10 - off?\n",
    "23:20 - on?\n",
    "ųū9 - off?"
   ]
  },
  {
   "cell_type": "markdown",
   "metadata": {},
   "source": [
    "## Psichoterapija\n",
    "\n",
    "7:00 - Atsikeliu. Iš karto bėgu pas Emili pasakyti, kad aš esu jau sveikas, atsibudęs. Pokalbis vystosi vis liudnyn. Paklausia, ką darysiu šiandien. Sakau: 20 dalykų, vienas iš jų bus išsiaiškinimas, kam praeitą mėnesį išleidau 900. Sakau: noriu, kad ir ji šitokią savybę turėtų, remiantis praeities įvykiais galėti planuoti ateitį. Ji užpyksta, kad nuo pat ryto jai gadinu nuotaiką.  \n",
    "8:00 - Tai, kas vyksta vėliau, yra stebuklas. Visad būdavau jos atstumiamas ir pažeminamas. Šimtus kartų. Tačiau šįsyk ji padarė kitaip. Sutiko su manim pakalbėti. Ne iš pradžių supratau. Pasakė, kad man reiktų kitos merginos. Paskui pasakė, kad nori, kad aš būčiau laimingas, kad tik mane vieną ir teturi. Kur man eiti, ar su ja būti, priklausys tik nuo to, ko aš noriu. Galiu ją palikti. Pasakiau, kad nepaliksiu. Yra lb šiuo metu negerai tarp mūsų, bet tikėjimo dėka suprantu, kad gali būti gerai. Kad dar įmanoma stengiantis tai pasiekti. Tikėjimas ateina iš to, kad dar niekad nebuvau taip niekeno mylimas. Kad su meile daug kas įmanoma.  \n",
    "8:30 - Atsisveikinau šįryt su ja jausdamas pilnatvę, ne taip, kaip įprastai, kai jausdavau vienišumą, apleistumą, baimę, neviltį ir kitas emocijas, dėl kurių pasidarydavau silpnas.  \n",
    "8:40 - Atsikėlus ir nuėjus prie stalo, neviltis. Bankui atidavus skolą, liks 5 eurai. Dar reikia atiduoti 85 kažkur kitiems. Jau matau, vėl nepasirodysiu darbe, nes nervuosiuos, kad lieku be pinigų visą dieną. Jei noriu likti su pinigais - nervuosiuos, kad laiką skiriu ne 20 darbų sąrašui, o kažkam kitam. Tik atlikus tuos 20, galiu ir pasirodyti darbe, ir skirti laiko sau užsidirbti  \n",
    "9:00 - vėl suima miegas. Krentu į lovą. Dar plius alkanas, nusilpęs. Reikia nusipirkti ką pavalgyt. Bet neaišku, kiek bankui vesiu. Ar liks tik 5 eurai, ar mažiau. Užsikniskit visi niekšai, skriaudžiantys Simoną.  \n",
    "9:20 - durnai, nerimto paimtas ir alkanumo, varinėju iš kampo į kampą. Faina būtų išvažiuot ir gaut kokius 30 eurų per pietų metą. Vis sukasi galvoj skaičiai - tai kiek dar pinigų reikia, kad skolas pašalint? Nu gerai, jei gaunu iš Emili 130, lieka dengti tik kažkur 190 (skola bankui 20, paspirtukas 80, kompas 90). Gal šiandien uždirbt tą gaidį? Bet tada vėl išsišūdinsiu su neatliktu 20 darbų. Taip ir nenusprendžiau, ar ant pietų varyt gaišintis laiką. Gal. Gerai jau gerai, lai verda ta sriuba.  \n",
    "9:30 - parūkyt, nusipirkti kruasanų, duonos ir pieno už paskutinius eurus. Randu kišenėj netyčia dar 5 eurus, juos likviduoju pardoj. Pakeliui parašau laišką Motiejui, kad nevarysiu su juo į vakarėlį. Paaiškinu, kaip sekasi su santykiais, ir kaip neturiu laiko, nes reikia vartyti po papildomus 300 - 400 į sav. Deja, kitą kartą.  \n",
    "9:50 - apima baisus rytinis nedamiegojimo ir nepavalgymo sipnumas. Vis tiek, prisimenu vieną Kembridžą baigiusią merginą, su kuria buvo labai įdomu pora valandėlių pavalgyti, pakalbėti ir pasivaikščioti rudenį prieš pusantrų metų.  Ar tokių dalykų jau teks atsisakyti, nes Emili niekad to nesupras ir įsižeis? Dar sumąstau dadėti į sąrašą tokius darbus, kaip nuėjimas į turgelį ir išsiaiškinimas, ką sodinti, o paskui nuvažiavimas pasodinti šią savaitę. Mamai tik pora dalykų pasakysiu. Ji susipyko su visais: sūnumi, broliu ir mama todėl, kad rūpinasi savo emocijomis labiausiai, o kitų išgyvenamos neigiamos emocijos dėl jos skaudinimų yra vienodai. Su Emili išsiaiškinome, kad kaltas yra ryšys tarp dviejų žmonių, kai vienas pastoviai pyksta, kad jam yra gadinama nuotaika, o kitas jaučiasi atstumtas, nes jo mintys patiria nuolatinį nuvertinimą. Panašių atsakymų reiktų ieškoti ir pas mano mamą, ryšyje su aplinkiniais žmonėmis. Be to, gal tai bus ir bejausmis mūsų pasimatymas kaip dviejų svetimų žmonių, tikrai ne kaip mamos ir sūnaus. Tačiau vis tiek norėsiu apžiūrėti daržą ir paklausti, kaip yra sodinami dalykai, jei man tai leis padaryti be išankstinio nuvertinimo, kad ne man yra sodinti ir prižiūrėti daržus.  \n",
    "10:05 - kai guliu ant lovos ir rašau, toks rytinis silpnumas neima. Reikia keltis, kaistis kavos, užsitepti sumuštinį. Ne, vis tiek ko gero, kai sriuba išvirs, nuvarysiu tris val padirbti kokias, tada į turgelį, jei dar nebus užsidaręs  \n",
    "10:15 - bediskutuodamas kurjerių čiat susigalvoju papildomą idėją. Užteko pamatyti keletą nuotraukų. Idėja, galima sakyti, yra. Pasijungiau seną kompą, nusikopinau dėdulės su akinukais tekstus, paeditinau - va te jums ir prašom. Ar ne tobula? Narcisistiškai savim žaviuosi. Dar kurjerių universiteto čiate pasidalinu šiomis idėjomis. Nu, ar ne faina? [https://www.facebook.com/naktinis.saimonas/posts/pfbid036BoGYW4kvKUxbo5VsPJpWMPN71UFwsGR1jg4V3SNdTugKXfkDq4YcxXLStkMjypcl](https://www.facebook.com/naktinis.saimonas/posts/pfbid036BoGYW4kvKUxbo5VsPJpWMPN71UFwsGR1jg4V3SNdTugKXfkDq4YcxXLStkMjypcl)   \n",
    "12:00 - jau daugiau negaliu. Einu miegot.  \n",
    "13:30 - atsikeliu - o, čiate vėl kažkas vyksta. Nagi nagi... pasirodo nuo mano išsakytų minčių apie kurjerių darbo romantiką daug kas pavažiavo į priekį. Vienas kolega man siūlo naują platformą kurti kurjerių, pavadinimu Folt (Fuck the olt). Sakau sori vyrai, šią sav. bandysiu rekordą 140 eurų viršyt ir dar sekančią dieną būt neišsijungęs iš pasaulio. Bet kitą savaitę - darbo pokalbiui pasiruošęs. Jau man patinka.  \n",
    "14:15 - Osum nuotrauka. Jau žinau, kad reik po apačia parašyti dar biški apie kurjerių darbo romantiką, AI pažangą ir tą patį dėdulę su akinukais. Bet dar ne dabar.  \n",
    "14:25 - Baisus tinginys mane puola. Ką nuveikiau iš tų 20 darbų? Ogi nieko. Vsio, einu parūkyt ir judint subinę pradėt pagaliau. Bent pamiegojau, atsigavau.  \n",
    "15:10 - Dar pablevyzgojęs su Motiejum apie meilę, o su kolegom apie ukrainiečius ir atlyginimus, suvokiu, kad tikrai reikia judintis. Jau kaip ir atsibudęs, o nieo nedarau. Nu kiek galima. Kažkas nesveiko. Matot, kokia valia pas žmogų, kuris visą savaitę išsidaužęs buvo...  \n",
    "15:25 - Stovi nepažiūrėta [dar viena nuoroda](https://www.youtube.com/watch?v=0NG6Dk47Zro) apie kurjerio darbo romantiškąją dalį. Ar pažiūrėti? Tiek to, pažiūrėsiu begamindamas sriubą.\n",
    "15:45 - Pažiūrėjęs video padarau 25 dienas vėluojantį pavedimą bankui. Perskaitau sutarties sąlygas, ką blogo jis man gali padaryti už vėlavimą. Taip pat prisijungiu pasitikrinti prie VMI, ar jie ras priežastį, dėl kurios būsiu skolingas valstybei 300 eurų, ar neras. Tuščia. Dar tą kažkokią DAC7 nesąmonę susitvarkyt reiks.  \n",
    "16:00 - Varau į apačią daryt troškinio tai savo sriubai.  \n",
    "16:20 - Klausau Nirvaną. Išlenda Emili. Pasakau naujienas. Būtų viskas gerai, jei ne tas susinervinimas dėl kažkokių papų, kurie buvo net ne papai, o mano kolegos parašymas: ,,grazi moteris ta linkyte, visa kita neidomu\". Vėl gi apima mane neviltis bendraujant su Emili. Nes kai papasakoju kokius dešimt dalykų, išsirenka vieną, kuris man net neaktulus ir ištisai varo vien apie jį, kol save ir mane išnervuoja.\n",
    "16:40 - Dar šiek tiek laiko, prisiminus tuos visus piktumus su Emili ir jų labai liūdnas pasekmes, skiriu paaiškint padėčiai:\n",
    "\n",
    "*Šiandien po darbų būtinai dar turiu skirti laiko programavimui ir kt. dalykam. Greičiausiai jis nusikels į naktį, tad reikės susikaupti. Negalima šiandien iššvaistyti jėgų, nes rytojui jų reikės žiauriai daug, visą dieną dirbsiu nuo ryto iki vos ne kito ryto. Maždaug jau įsivaizduoji, ką tai reiškia turbūt. Todėl šiandien norėsiu švaresnių minčių, labai nenoriu, kad tarp mūsų būtų piktumų. Stengsiuos po lauką tasytis tik tiek, kiek reikia. Gal 4 - 5 val. tik. O paskui daryti toliau, kas priklauso. Kad nenusitemptų tas darymas iki paryčių ir nereiktų nemiegojus sekinti organizmą iki dar vienų paryčių. Kaip praeitą sav. po kurios net apsirgau*\n",
    "\n",
    "Visada tokie paaiškinimai moraliai atima daug jėgų ir nėra aišku, ar bus koks nors rezultatas, ar bus susipykta. Nu gal šį sykį? Kažkokia siena.  \n",
    "17:15 - Dar į pardą nuvariau vištos nusipirkt. Mąstau, kas dėsis rytoj. Bus baisu, bet teisinga. Jezus, kaip sunku padaryt elementariausią dalyką - valgyt. Bet kuprinė sukrautu, migruoju į apačią su vienaračiu garnyrą keptis.  \n",
    "18:40 - Tik dabar galiu ragauti sriubą. Siaubas, kiek ilgai... Bet kai pavalgysiu, būsiu tvirtesnis ir dalykus galėsiu daryti greičiau. Dar plius planuoju rytdieną. Rimtai, gal įmanoma ne 144, o visus 200 įmušt?\n",
    "19:10 - Koordinuojam planus su Emili. Siūlau prisidėti 700 už nuomą, kad tik ji varytų iš tvarto. Ji siūlo 10 vakaro atvaryt, kad jai padėčiau kai ką nusipirkt ir atiduot visą skolą. Dėl to galėsiu atsiimt iš taisyklos trečią transportą. Vis labiau atrodo, kad poryt diena su trim transportais bus lb. nevaikiška.\n",
    "\n",
    "\n"
   ]
  },
  {
   "cell_type": "markdown",
   "metadata": {},
   "source": [
    "### 20 darbų sąrašas\n",
    "\n",
    "1) Pridedamas linkas į mano kolegos blogą (https://loijord.github.io/courier_colab/)\n",
    "2) Paliekama nuomonė apie vienaračius: https://www.facebook.com/groups/547655106045864/posts/1418586352286064/\n",
    "2) Pridedama nauja story\n",
    "3) Pridedama orų info\n",
    "4) Trinamos ex fotkės\n",
    "5) Daromi tie testukai\n",
    "6) Užrašomas pokalbis dėl 7, taip pat šiandienos susirašinėjimai\n",
    "8) Pajudinamas EUC saitas\n",
    "9) Sukeliama info apie dietas\n",
    "10) Išnagrinėjama naujo darbo pokalbio medžiaga\n",
    "11) Programuojama delivery data\n",
    "12) Programuojama restaurant data\n",
    "13) Tvarkomas kambarys\n",
    "14) Verdama yra valgyti\n",
    "15) Skalbiami rūbai\n",
    "16) Dedamas nuomos skelbimas\n",
    "17) Peržiūrimas kurjerių čiat.\n",
    "18) Perskaitomas Emili parašymas pašte\n",
    "19) Peržiūrima Vytauto tinklalaidė\n",
    "20) Peržiūrimi praeito mėnesio finansai\n",
    "21) Apsivalyt kompą reikia\n",
    "22) Padaryt researchą apie sodinimus\n",
    "23) Nuvaryt į turgelį, visko nusipirkti"
   ]
  },
  {
   "cell_type": "markdown",
   "metadata": {},
   "source": [
    "### Finansai\n",
    "Savaitėmis:\n",
    "\n",
    "* 1 savaitė: viso 200+20. Kažkokiu būdu gavosi dirbti, nors mane šantažavo ir mama ir marozai, grasinantys susidoroti. Matyt tuo metu su Emili dar nebuvo spėję paaiškėti tiek neramumą keliančių dalykų ir dėl to labai pavyko susikoncentruoti į tikslą grąžinti skolas ir taupyti ant nuomos\n",
    "* 2 savaitė: viso 180+60. Šalta ir nesuprantu, kaip vienu metu ir dirbti, ir turėti normalius santykius. Penktadienį nieko nepaisydamas išvažiavau dirbti nuo ankstaus ryto iki 3 nakties. Uždirbau 109. Ant galo buvo vieniša, nes Emili varė į vakarėlį viena paskui iš ryto girta skambinėjo ir reikalavo, kad atvažiuočiau. \n",
    "* 3 savaitė: viso 120+40, nes Emili visą savaitę varė tiek streso, kad galvojau neištempsiu. Dirbti pavyko tik savaitgalį. \n",
    "* 4 savaitė: viso 300+20. Iš jų 144 per challenge. Emili nors kažkiek pasistengė, kad mano sveikata būtų geresnė. Suteikė sąlygas užsidirbti. Dėl to ir uždarbis daug didesnis.\n",
    "\n",
    "Prie pliusų rašomas uždarbis už matematikos konsultacijas. Dar reikia pridėti 600 eurų dydžio atlyginimą už darbą, kurio nedarau, nes nepavyksta.\n",
    "\n",
    "\n",
    "Situacija nuo gegužės 3d. ASAP\n",
    "\n",
    "* Turiu apie 80 eurų.\n",
    "* Skola už kompiuterį 90 eurų (vėluoja grąžinti dvi savaites)\n",
    "* Bankams skola apie 130 eurų (vėluoja grąžinti tris savaites)\n",
    "\n",
    "* Taisykloj paliktas paspirtukas laukia atsiimti - 80 eurų.\n",
    "* Total. Gegužės 8d. atlyginimo ir Emili skolos pilnai pakanka susidariusiam minusui padengti ir sumokėtį nuomą už balandį.\n",
    "* Nuo trečiadienio iki penktadienio man darbo valandos iki 17 - 18val. Užsakymus šiuo metu vežioti griežtai atsakau, tam laiko bus tik po darbo. Kitu metu privalau miegoti, nes kitaip nepadirbsiu. Laiko uždirbti po 100 eurų iš užsakymų vežiojimo bus tik savaitgaliais.\n",
    "\n",
    "Situacija iki išsikraustymo. \n",
    "\n",
    "* Būsimai nuomai pinigai ateis iš 500 depozito, sumokamo už 5 dienų nuo išsikraustymo.\n",
    "* In total šios savaitės galimybes užsidirbti nuomai įvertinu 300 eurų. Jei Emili duos leidimą, galėsiu 400, bet ne daugiau, nes dirbdamas po 12 valandų be išeiginių organizmas nėra pajėgus atsistatyti.\n",
    "* Iš uždirbtų pinigų norėčiau grąžinti 50 krikštatėviui, 90 už kompiuterį, 40 už telefoną ir likusius 200 bankui. Dalies šių sumų grąžinimą galima atidėti po išsikraustymo, bet to daryti nenorėčiau.\n",
    "\n",
    "Situacija po išsikraustymo. \n",
    "\n",
    "* Sumokėti 50 eurų palūkanas už tai, kad vis dar negrąžinau 1000 eurų vertės sumos\n",
    "* Likusį mėnesį skirti uždirbti tą 1000, grąžinti ir tokiu būdu tų 50 eurų išmetimą kas mėnesį už nieką pašalinti\n",
    "* Susitvarkyti mokesčių deklaravimą. Gali būti, kad valstybei esu skolingas 20% savo pernai metų uždarbio, tada reiktų sumokėti apie 350 eurų kuo skubiau.\n",
    "* Viską atlikus, absoliučiai jokių skolų niekam neturiu ir galiu ramiai gyventi.\n",
    "\n",
    "\n",
    "Reikia vadovautis ne prognozėmis iš skirtingų saitų, kurios dažniausiai neparodo, kokio pobūdžio bus krituliai, o savo galva ir pirmine informacija. Šaltiniai tokie:"
   ]
  },
  {
   "cell_type": "code",
   "execution_count": null,
   "metadata": {},
   "outputs": [],
   "source": []
  }
 ],
 "metadata": {
  "kernelspec": {
   "display_name": "Python 3 (ipykernel)",
   "language": "python",
   "name": "python3"
  },
  "language_info": {
   "codemirror_mode": {
    "name": "ipython",
    "version": 3
   },
   "file_extension": ".py",
   "mimetype": "text/x-python",
   "name": "python",
   "nbconvert_exporter": "python",
   "pygments_lexer": "ipython3",
   "version": "3.9.13"
  }
 },
 "nbformat": 4,
 "nbformat_minor": 1
}
