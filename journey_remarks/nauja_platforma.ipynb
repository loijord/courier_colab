{
 "cells": [
  {
   "cell_type": "markdown",
   "metadata": {},
   "source": [
    "## kk vb\n",
    "#### Būsimos platformos pranašumai prieš Wolt/Bolt a.k.a. Business model successful:\n",
    "\n",
    "* Normalūs payouts. Uždraudus vežioti Bolt/Wolt maistą, mokėti 4eur/zkz\n",
    "* Griežta kurjerių atranka ir limituoti užsakymai iki Ceikinių g. kokios. White, no ahmed, no disabled, no maroz, no woman, no surron, kids friendly. Languages: en/lt. Galima surinkti bent 200 narių iš kurjerių su aukštuoju.\n",
    "* Sudėti nutritional facts ir sekimas, kas valgoma. Bus patiekalų energetinės vertė: riebalai, angliavandeniai, baltymai ir skaidulos. Tikslių verčių nustatyti nebūtina, galima naudoti apie 20% paklaidą. Mano, kad vienas žmogus gali suvesti viską per mėnesį, nes Hebsburgeriai ir makai tokias vertes jau turi pas save susivedę. \n",
    "\n",
    "* Klientai, į kuriuos orientuojamasi: visi, kurie meta svorį ir nenori š valgyti. Taip pat tie, kuriems geriau užsisakyti ir daugiau uždirbti, nei maistą gamintis\n",
    "* Healthy food hub vietoj wolt market\n",
    "* Minimalus support, reaguojantis adekvačiai (4 išpylimai sriubos - ban, 2 atšalę orderiai - ban). Nėra nesusipratimų, kai lauki kebabinėje ir pyst pradingsta zkz, o support sako sorry nebuvo pas tave tokio zkz.\n",
    "* Galima daryti central zap: jei užsakymai yra centre/naujamiestyje, tai pristatymas yra greitas ir patikimas. Kaip žaibu nutrenkta :D\n",
    "\n",
    "#### Žmogiškieji ištekliai\n",
    "* darant mums po 3 val./mėn wolt bankrutuotų [?]\n",
    "* Vytautą G. ir @jesusiscool į support ir marketing chujeting, business analytic žmogus irgi yra\n",
    "* Naktinis Saimonas galėtų kodint naują app kartu su kk vb."
   ]
  },
  {
   "cell_type": "markdown",
   "metadata": {},
   "source": [
    "## Vytautas G. (as a response to kk vb)\n",
    "\n",
    "* Laiko gali neturėt žmonės (gamintis), pinigą virina.\n",
    "* Darbo suskaičiuot patiekalų energetines vertes restoranams būtų belenkiek. Samdant Python programerį - per dideli kaštai.\n",
    "* Mano, kad norint sumažinti kaštus panašių darbų galima atsisakyti duomenų tikslumo. Pvz. apskaita nėra smulkinama iki tobulo apskaičiavimo.\n",
    "* Resursų sąnaudos: reik naudotis tuo, kas jau sukodinta. Pvz. siūlyti kurjerių paslaugas pigu.lt ir naudotis getfast appsu.. Galima daryti skubaus pristatymo paslaugas kaip kažkas linką įmetęs buvo (ta platforma dabar - mirus)\n",
    "* Požiūris į būsimą platformą: nenorėtų tokios platformos turėt ir tokio maisto vežioti. Sutinka, kad galima padaryt geriau, bet nedarys. Darytų nišinę platformą, tokią kaip Vegan Eats."
   ]
  },
  {
   "cell_type": "markdown",
   "metadata": {},
   "source": [
    "## ohwellok (as a response to kk vb)\n",
    "\n",
    "* Jei žmonės leidžia sau užsisakyti maistą sutaupant laiko, nors tas maistas yra overpriced, tai jie pinigų turi. Išvada - jie ne tinginiai. Dirba ant to, kad Wolt paliktų maistą prie durų už 20 eur.\n",
    "* Užtenka pasamdyti Python programerį, kuris iš atskirų ingredientų energetinės vertės duomenų suprogramuoja, kaip nustatyti viso kurio nors patiekalo vertes. \n",
    "* Nieko gero taip ir neatsirastų, jei būtų nusprendžiama darbo nedaryti dėl per didelių jo kaštų.\n",
    "* Kas naudotųsi paslauga, kur siūlomi produktai su energetinėmis vertėmis: damos, užsisakinėjančios iš urban garden arba in home mamytės\n",
    "* Nori būti atsakingas už face control: non maroz platform, tik su aukštuoju."
   ]
  },
  {
   "cell_type": "markdown",
   "metadata": {},
   "source": [
    "## Naktinio Saimono nuomonė\n",
    "\n",
    "Jei kuriame platformą, tai ji turi būti kuriama iš keturių dalių: app kurjeriui, app klientui, app restoranui ir app supportui lygiai taip pat, kaip ir Bolt/Wolt platformos. Turi būti suplanuota, kuo kiekviena iš šių dalių bus konkurencinga palyginus su Bolt/Wolt konkurentais, jos turi sudaryti darnią ekosistemą. Taip pat, paėmus pavyzdį iš Wolt, leidžiamas naujienlaiškis arba kokia nors kita nuoroda į tips & tricks, vertingus kurjeriui.\n",
    "\n",
    "#### Tips & tricks\n",
    "* Teikiama detali informacija kurjeriams apie gyvybės draudimą (Vox gali parekomenduoti) bei patikimą servisą.\n",
    "* Remiantis 1000 zkz Bolt istoriniais duomenimis teikiama informacija apie vidutinius laiko nuostolius kiekvienoje užsakymo vykdymo dalyje; Tips & tricks, kaip kiekvienos iš šių dalių laiko sąnaudas optimizuoti; dalijamasi duomenimis, kaip transportas paveikia pristatymo laiką.\n",
    "* Skatinamas kurjerių bendradarbiavimas dalijantis informacija apie jų naudojamą transportą. Va pavyzdys: [https://loijord.github.io/EUC/](https://loijord.github.io/EUC/). Svarbu, kad būtų įvertinami tokie parametrai kaip greitis, vienu įkrovimu nuvažiuojamas atstumas, kaina ir remonto iškaidos)\n",
    "\n",
    "#### App kurjeriui\n",
    "  * Skelbiama, kiek kurjerių yra prisijungę ir koks apytikslis jų trūkumas arba perteklius.\n",
    "  * Heatmaps rodymas efektyvesniam kurjerių paskirstymui, kad kurjeriai prarastų kuo mažiau laiko be darbo, o atsiradus užsakymams jie būtų nuvežami greičiau.\n",
    "  * Galimybė peržiūrėti siūlomą keliavimo maršrutą, pagal kurį skaičiuojami km.\n",
    "  * Konkurencingas uždarbių skaičiavimo modelis: kompensacija už min laukimą, 0.5eur/km, kasvalandinis base paymant paskaičiavimas, priklausantis nuo orų sąlygų, daug didesni tarifai už vežimą į tolimus regionus (nes reikia grįžti ir auga rizika užsirauti ant prastų kelių arba incidentų su klientais)  \n",
    "  \n",
    "#### App klientui\n",
    "* Sudėti nutritional facts ir sekimas, kas valgoma  \n",
    "\n",
    "#### App restoranui  \n",
    "* Nieko protingesnio už Bolt/Wolt standartą, tačiau pridedama statistika apie vidutinį valgių pagaminimo laiką bei vid. jo nukrypimus, leidžianti patikimiau įvertinti galimą užsakymo paruošimo laiką.  \n",
    "\n",
    "#### App supportui   \n",
    "* Kiek suprantu, jis bus taip gerai sukodintas, kad žmogiškųjų išteklių reiks mažai (4 išpiltos sriubos/2 atvėsę patiekalai - ban)\n",
    "\n",
    "#### Kiti visos platformos privalumai:\n",
    "  * Ekologiškas delivery - pristatymai be automobilio saugant gamtą ir išvengiant kuro bei automobilio eksplotavimo išlaidų. Tačiau tam reikia išspręsti klausimą, ką daryti lietingomis arba atšiauriomis oro sąlygomis (ar tikrai užteks didesnio bazinio)\n",
    "  * Garantijos kurjeriui: ban egzistuoja, tačiau kurjeris - ne vergas, todėl turi būti tikras, kad negaus ban, kuris bus nepagrįstas. \n",
    "  * Burti vienam tikslui nusiteikusią bendruomenę tokiu būdu siekiant bendradarbiavimo vietoj konkurencijos. Skatinti grįžtamąjį ryšį ir duoti kurjeriams suprasti, kad į jį yra atsižvelgiama (pvz. ar verta apmokestinti sunkius krovinius: už ir prieš)\n",
    "  * Coperto mokestis. Italijoj klientas, atėjęs į restoraną, moka privalomą 1.5EUR mokestį. Jūs ką, galvojat kurjeris - mažesnį darbą atlieka?"
   ]
  },
  {
   "cell_type": "markdown",
   "metadata": {},
   "source": [
    "## Kitos nuorodos apie produkto kūrimą\n",
    "* [Pavyzdys, kaip galėtų atrodyti kurjeriams pritaikyto transporto analizė](https://loijord.github.io/EUC/)\n",
    "* Nebaigtas saitas apie energetinės vertė gaminamiems receptams paskaičiavimą ir tips & tricks, kaip organizmas įsisavina medžiagas [reikia sukelti į GitHub]\n",
    "* [Paskaitos apie produkto strategiją](https://www.linkedin.com/learning/product-management-building-a-product-strategy)\n",
    "* [Kaip Bolt pavyko sukurti produktą per 6 mėnesius?](https://pavelzubarev.medium.com/bolt-food-designing-a-food-delivery-service-for-a-unicorn-company-3b93680778a0)"
   ]
  }
 ],
 "metadata": {
  "kernelspec": {
   "display_name": "Python 3 (ipykernel)",
   "language": "python",
   "name": "python3"
  },
  "language_info": {
   "codemirror_mode": {
    "name": "ipython",
    "version": 3
   },
   "file_extension": ".py",
   "mimetype": "text/x-python",
   "name": "python",
   "nbconvert_exporter": "python",
   "pygments_lexer": "ipython3",
   "version": "3.9.13"
  }
 },
 "nbformat": 4,
 "nbformat_minor": 1
}
