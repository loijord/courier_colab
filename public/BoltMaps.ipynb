{
 "cells": [
  {
   "cell_type": "markdown",
   "source": [
    "### 2023-01-05\n",
    "Įkeltas Vilniaus žemėlapis, atvaizduojantis >700 aktyvių Bolt restoranų **neatsižvelgiant į darbo valandas**.\n",
    "\n",
    "Žemėlapis [pasiekiamas čia](bolt_restaurants.html)\n",
    "\n",
    "Žemėlapis sugeneruotas automatiškai remiantis [Bolt Food Website](https://food.bolt.eu/lt-LT/9-vilnius) esančiu restoranu sąrašu ir Google paieškų rodmenimis, naudojant [Google Places API](https://medium.com/swlh/google-maps-places-api-28b8fdf28082) prieigą, gautą per [Google Cloud](https://console.cloud.google.com/) platformą.\n",
    "\n",
    "* Skritulių plotas proporcingas vartotojų reitingų skaičiui (VOTES)\n",
    "* Skrituliai vaizduojami ten, kur Google parenka geriausiai atitinkančius adresus\n",
    "* Vietos, kurioms Google nerodo darbo valandų arba reitingų, neįtrauktos\n",
    "\n",
    "Duomenys tik apytiksliai, nes ne visus adresus Google nurodo teisingai, o Google reitingavimo intensyvumas ne visada tiksliai atspindi Bolt delivery intensyvumą.\n",
    "\n",
    "Vėliau planuoju patikslinti adresus ir darbo valandas jau pagal [Bolt Food Website](https://food.bolt.eu/lt-LT/9-vilnius) parodymus. Dar vėliau - pavaizduoti miesto aktyvumą priklausomai nuo skirtingo meto."
   ],
   "metadata": {
    "collapsed": false
   }
  },
  {
   "cell_type": "code",
   "execution_count": null,
   "outputs": [],
   "source": [],
   "metadata": {
    "collapsed": false
   }
  },
  {
   "cell_type": "code",
   "execution_count": null,
   "outputs": [],
   "source": [],
   "metadata": {
    "collapsed": false
   }
  }
 ],
 "metadata": {
  "kernelspec": {
   "display_name": "Python 3",
   "language": "python",
   "name": "python3"
  },
  "language_info": {
   "codemirror_mode": {
    "name": "ipython",
    "version": 2
   },
   "file_extension": ".py",
   "mimetype": "text/x-python",
   "name": "python",
   "nbconvert_exporter": "python",
   "pygments_lexer": "ipython2",
   "version": "2.7.6"
  }
 },
 "nbformat": 4,
 "nbformat_minor": 0
}
