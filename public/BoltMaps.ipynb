{
 "cells": [
  {
   "cell_type": "markdown",
   "metadata": {},
   "source": [
    "### 2023-01-05\n",
    "Įkeltas žemėlapis, atvaizduojantis >700 aktyvių Bolt restoranų.\n",
    "\n",
    "Žemėlapis [pasiekiamas čia](bolt_restaurants.html)\n",
    "\n",
    "Žemėlapis sugeneruotas automatiškai remiantis [Bolt Food Website](https://food.bolt.eu/lt-LT/9-vilnius) esančiu restoranu sąrašu ir Google paieškų rodmenimis, naudojant [Google Places API](https://medium.com/swlh/google-maps-places-api-28b8fdf28082) prieigą, gautą per [Google Cloud](https://console.cloud.google.com/) platformą.\n",
    "\n",
    "* Skritulių plotas proporcingas vartotojų reitingų skaičiui (VOTES)\n",
    "* Skrituliai vaizduojami ten, kur Google parenka geriausiai atitinkančius adresus\n",
    "* Vietos, kurioms Google nerodo darbo valandų arba reitingų, neįtrauktos\n",
    "\n",
    "Duomenys tik apytiksliai, nes ne visus adresus Google nurodo teisingai, o Google atsiliepimų skaičius yra blogesnis indikatorius už Bolt atsiliepimų skaičių."
   ]
  },
  {
   "cell_type": "markdown",
   "source": [
    "### Update\n",
    "\n",
    "Taip pat jau įkelti ir preliminarūs [kasvalandiniai aktyvių taškų žemėlapiai](Restaurants)"
   ],
   "metadata": {
    "collapsed": false
   }
  },
  {
   "cell_type": "markdown",
   "source": [
    "### TODO\n",
    "* Patikslinti adresus ir darbo valandas pagal [Bolt Food Website](https://food.bolt.eu/lt-LT/9-vilnius) parodymus.\n",
    "* Įtraukti Bolt Food paliktus atsiliepimus šalia Google atsiliepimų\n",
    "* Išbandyti daug vizualesnį vaizdavimą naudojant [Heat Maps](https://levelup.gitconnected.com/how-to-make-interactive-maps-with-folium-f0b66f157737)\n",
    "  * Rasti būdą parinkti spalvas pagal kuo tikroviškesnis zkz gavimo tikimybes / tikėtiną zkz laukimo laiką\n",
    "* Padaryti scroll option per valandas, kad nereikėtų atsidarinėti atskirų failų."
   ],
   "metadata": {
    "collapsed": false
   }
  },
  {
   "cell_type": "code",
   "execution_count": null,
   "outputs": [],
   "source": [],
   "metadata": {
    "collapsed": false
   }
  }
 ],
 "metadata": {
  "kernelspec": {
   "display_name": "Python 3 (ipykernel)",
   "language": "python",
   "name": "python3"
  },
  "language_info": {
   "codemirror_mode": {
    "name": "ipython",
    "version": 3
   },
   "file_extension": ".py",
   "mimetype": "text/x-python",
   "name": "python",
   "nbconvert_exporter": "python",
   "pygments_lexer": "ipython3",
   "version": "3.9.13"
  }
 },
 "nbformat": 4,
 "nbformat_minor": 1
}
