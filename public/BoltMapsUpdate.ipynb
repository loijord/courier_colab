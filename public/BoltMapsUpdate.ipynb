{
 "cells": [
  {
   "cell_type": "markdown",
   "metadata": {},
   "source": [
    "## 2023-01-05\n",
    "Įkeltas žemėlapis, atvaizduojantis >700 aktyvių Bolt restoranų pagal Google balsų skaičių.\n",
    "\n",
    "Žemėlapis [pasiekiamas čia](bolt_restaurants_vilnius.html)\n",
    "\n",
    "Žemėlapis sugeneruotas imant restoranų sąrašą iš [Bolt Food Website](https://food.bolt.eu/lt-LT/9-vilnius) ir pagal juos automatiškai generuojant Google paieškų informaciją (darbo laikus, adresus ir Google balsų skaičius).  Naudota ribota [Google Places API](https://medium.com/swlh/google-maps-places-api-28b8fdf28082) prieiga, gauta per [Google Cloud](https://console.cloud.google.com/) platformą.\n",
    "\n",
    "* Skritulių dydis atitinka vartotojų reitingų skaičiui (VOTES)\n",
    "* Žalia spalva rodo, kad darbo laikas ir adresas 100% teisingas, nes buvo sutikrintas su Bolt Food programėle.\n",
    "* Restoranai, neturintys darbo laikų ir adresų nerodomi.\n",
    "\n",
    "#### Duomenys tik apytiksliai. Iki geresnio tikslumo trūksta:\n",
    "* Sužiūrėti 90% vietų adresus ir darbo laikus pagal Bolt Food programėlę\n",
    "* Įtraukti dar apie 5% vietų, kurioms Google neranda darbo laikų ar adresų\n",
    "* Google balsų skaičių pakeisti kitu indikatoriumi, tiksliau parodančiu realų Bolt užsakymų intensyvumą.\n",
    "  * Pvz. degalinės, Narvesen kioskai ir kai kurie McDonaldai turi daug balsų, bet užsakymų iš jų beveik nėra.\n",
    "  * Pvz. Bolt Marketai turi mažai balsų, nors yra labai aktyvūs"
   ]
  },
  {
   "cell_type": "markdown",
   "metadata": {},
   "source": [
    "## 2023-01-07\n",
    "\n",
    "Taip pat jau įkelti ir preliminarūs kiekvienos valandos [atvirų vietų žemėlapiai](RestaurantActivityMaps)"
   ]
  },
  {
   "cell_type": "markdown",
   "metadata": {},
   "source": [
    "### TODO\n",
    "* Patikslinti adresus ir darbo valandas pagal [Bolt Food](https://food.bolt.eu/lt-LT/9-vilnius) programėlės parodymus.\n",
    "* Padaryti scroll option kasvalandiniuose duomenyse, kad nereikėtų žemėlapių atsidarinėti po vieną.\n",
    "* Sugalvoti geresnį būdą apskaičiuoti restoranų **traukos rodiklius**\n",
    "* Sukurti daug vizualesnius [Heat Maps](https://levelup.gitconnected.com/how-to-make-interactive-maps-with-folium-f0b66f157737), braižomus pagal spėjamus restoranų **traukos rodiklius**."
   ]
  },
  {
   "cell_type": "markdown",
   "metadata": {},
   "source": [
    "### Nuo ko priklauso restorano traukos rodiklis\n",
    "Traukos rodiklis - tai tikimybė gauti užsakymą iš tam tikro restorano tam tikru metu su sąlyga, kad užsakymą galima gauti ir iš aplinkinių restoranų. Jis priklauso nuo:\n",
    "  * Balsų skaičius pagal Google duomenis\n",
    "  * Užimtumas pagal Google duomenis\n",
    "  * Paklausos rodiklis, nustatomas pagal sukauptą pristatinėjimo maršrutų informaciją "
   ]
  },
  {
   "cell_type": "markdown",
   "metadata": {},
   "source": [
    "|`user_ratings_total`|`current_opening_hours & populartimes`|Demand|\n",
    "|:---:|:---:|:---:|\n",
    "|![](user_ratings_total.png)|![](populartimes.png)|![](demand.png)|"
   ]
  },
  {
   "cell_type": "markdown",
   "metadata": {},
   "source": [
    "**Kad sužinoti užsakymo gavimo tikimybę laukiant konkrečioje vietoje, reikia sudėti visų aplinkinių restoranų traukos rodiklius**"
   ]
  }
 ],
 "metadata": {
  "kernelspec": {
   "display_name": "Python 3 (ipykernel)",
   "language": "python",
   "name": "python3"
  },
  "language_info": {
   "codemirror_mode": {
    "name": "ipython",
    "version": 3
   },
   "file_extension": ".py",
   "mimetype": "text/x-python",
   "name": "python",
   "nbconvert_exporter": "python",
   "pygments_lexer": "ipython3",
   "version": "3.9.13"
  }
 },
 "nbformat": 4,
 "nbformat_minor": 1
}
