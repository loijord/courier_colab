{
 "cells": [
  {
   "cell_type": "markdown",
   "metadata": {},
   "source": [
    "## Restoranų darbo laikas ir užimtumas\n",
    "**Pirma projekto dalis** yra atverti restoranų statistinius duomenis ir padaryti juos prieinamesnius Vilniaus Bolt kurjeriams naudoti. Dabartiniame variante galima peržiūrėti kasvalandinių duomenų animuotus žemėlapius, kokios užsakymų atsiėmimo vietos dirba tam tikrą valandą ir koks jų užimtumas. \n",
    "\n",
    "* [Monday](https://nbviewer.org/github/loijord/courier_colab/blob/master/public/RestaurantActivityMaps/bolt_animation_test_Mon.html)\n",
    "* [Tueday](https://nbviewer.org/github/loijord/courier_colab/blob/master/public/RestaurantActivityMaps/bolt_animation_test_Tue.html)\n",
    "* [Wednesday](https://nbviewer.org/github/loijord/courier_colab/blob/master/public/RestaurantActivityMaps/bolt_animation_test_Wed.html)\n",
    "* [Thursday](https://nbviewer.org/github/loijord/courier_colab/blob/master/public/RestaurantActivityMaps/bolt_animation_test_Thu.html)\n",
    "* [Friday](https://nbviewer.org/github/loijord/courier_colab/blob/master/public/RestaurantActivityMaps/bolt_animation_test_Fri.html)\n",
    "* [Saturday](https://nbviewer.org/github/loijord/courier_colab/blob/master/public/RestaurantActivityMaps/bolt_animation_test_Sat.html)\n",
    "* [Sunday](https://nbviewer.org/github/loijord/courier_colab/blob/master/public/RestaurantActivityMaps/bolt_animation_test_Sun.html)\n",
    "\n",
    "**Taip pat galima peržiūrėti atskirą žemėlapį su visomis >700 aktyvių Bolt vietų.** Žemėlapis [pasiekiamas čia](https://nbviewer.org/github/loijord/courier_colab/blob/master/public/bolt_restaurants_vilnius.html)"
   ]
  },
  {
   "cell_type": "markdown",
   "metadata": {},
   "source": [
    "### Paaiškinimai\n",
    "* Violetinis grafikas reiškia, kad užimtumo duomenys sėkmingai paimti už Google Places API.\n",
    "* Pilkas grafikas reiškia, kad Google neturi duomenų apie tos vietos užimtumą, todėl imamas visų vietų išvidurkintas variantas.\n",
    "* Žaliai pažymėtos vietos, kurių darbo laikas ir koordinatės patikslintos pagal Bolt Food programėlę.\n",
    "* Mėlynai pažymėtos vietos kol kas dar nepatikslintos, gali būti netikslumų.\n",
    "\n",
    "### Netikslumai\n",
    "* Degalinės, Narvesen kioskai ir Gedo McDonalds balsų skaičius didelis, bet užsakymų iš jų yra mažai.\n",
    "* Kai kurios labai aktyvios vietos, tokioms kaip Bolt Marketai, turi mažai balsų.\n",
    "* Kai kurios vietos metamos klaidinguose adresuose.\n",
    "* Kai kurie adresai geri, bet koordinatės nepakankamai tikslios.\n",
    "\n",
    "### Kaip surinkti duomenys\n",
    "* Visos egzistuojančios vietos nukopijuotos iš [Bool Food Website](https://food.bolt.eu/lt-LT/9-vilnius).\n",
    "* Kiekvienai vietai iš Google duomenų automatiškai ištrauktas adresas, koordinatės, darbo laikas, užimtumo grafikas skirtingomis savaitės dienomis ir Google vartotojų balsų skaičius.\n",
    "* Naudota ribota [Google Places API](https://medium.com/swlh/google-maps-places-api-28b8fdf28082) prieiga, gauta per [Google Cloud](https://console.cloud.google.com/) platformą.\n",
    "* 5% vietų Google neaptinka arba aptinka neteisinguose adresuose. Kai kurios vietos - be darbo laikų.\n",
    "* 30% vietų informacija buvo patikslinta rankiniu būdu remiantis Bolt Food programėle.\n",
    "\n",
    "### Atviri duomenys\n",
    "* Restoranų sąrašas iš [Bool Food Website](https://food.bolt.eu/lt-LT/9-vilnius): [`bolt_restaurants.txt`](bolt_restaurants.txt)\n",
    "* Google duomenys per [Google Places API](https://medium.com/swlh/google-maps-places-api-28b8fdf28082) prieigą: [`bolt_restaurants_vilnius.txt`](bolt_restaurants_vilnius.txt)\n",
    "* Užimtumo duomenys (source: `https://github.com/m-wrzr/populartimes`): [`popular_times.npz`](popular_times.npz)\n",
    "\n",
    "----------------------------------------"
   ]
  },
  {
   "cell_type": "markdown",
   "metadata": {},
   "source": [
    "### TODO\n",
    "* Patikslinti adresus ir darbo valandas pagal [Bolt Food](https://food.bolt.eu/lt-LT/9-vilnius) programėlės parodymus.\n",
    "* Atverti užsakymų pristatymo duomenis:\n",
    "    * Užsakymo laukimas\n",
    "    * Atvykimas į restoraną\n",
    "    * Laukimas restorane / restorano ieškojimas\n",
    "    * Vykimas pas klientą\n",
    "    * Kliento ieškojimas / atvykimas prie durų\n",
    "    * Kassekundinės GPS koordinatės\n",
    "* Apjungiant užsakymų pristatymo duomenis su restoranų informacija, išanalizuoti, kur yra pagrindiniai uždarbio ir laiko praradimai.\n",
    "* Sukurti daug vizualesnius [Heat Maps](https://levelup.gitconnected.com/how-to-make-interactive-maps-with-folium-f0b66f157737), braižomus pagal spėjamus restoranų **traukos rodiklius**.\n",
    "* Įvertinti, kaip užsakymų pasiūla kinta laike."
   ]
  },
  {
   "cell_type": "markdown",
   "metadata": {},
   "source": [
    "### Nuo ko priklauso restorano traukos rodiklis\n",
    "**Traukos rodiklis** - tai tikimybė gauti užsakymą iš tam tikro restorano tam tikru metu su sąlyga, kad užsakymą galima gauti ir iš aplinkinių restoranų. Jis priklauso nuo:\n",
    "  * Balsų skaičius pagal Google duomenis\n",
    "  * Užimtumas pagal Google duomenis\n",
    "  * Paklausos rodiklis, nustatomas pagal sukauptą pristatinėjimo maršrutų informaciją "
   ]
  },
  {
   "cell_type": "markdown",
   "metadata": {},
   "source": [
    "|`user_ratings_total`|`current_opening_hours & populartimes`|Demand|\n",
    "|:---:|:---:|:---:|\n",
    "|![](user_ratings_total.png)|![](populartimes.png)|![](demand.png)|"
   ]
  },
  {
   "cell_type": "markdown",
   "metadata": {},
   "source": [
    "**Kad sužinoti užsakymo gavimo tikimybę laukiant konkrečioje vietoje, reikia sudėti visų aplinkinių restoranų traukos rodiklius**"
   ]
  }
 ],
 "metadata": {
  "kernelspec": {
   "display_name": "Python 3 (ipykernel)",
   "language": "python",
   "name": "python3"
  },
  "language_info": {
   "codemirror_mode": {
    "name": "ipython",
    "version": 3
   },
   "file_extension": ".py",
   "mimetype": "text/x-python",
   "name": "python",
   "nbconvert_exporter": "python",
   "pygments_lexer": "ipython3",
   "version": "3.9.13"
  }
 },
 "nbformat": 4,
 "nbformat_minor": 1
}
